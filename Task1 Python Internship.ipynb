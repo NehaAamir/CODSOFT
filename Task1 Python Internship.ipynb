{
  "nbformat": 4,
  "nbformat_minor": 0,
  "metadata": {
    "colab": {
      "provenance": []
    },
    "kernelspec": {
      "name": "python3",
      "display_name": "Python 3"
    },
    "language_info": {
      "name": "python"
    }
  },
  "cells": [
    {
      "cell_type": "code",
      "execution_count": null,
      "metadata": {
        "colab": {
          "base_uri": "https://localhost:8080/"
        },
        "id": "y367Ozp20aP9",
        "outputId": "24c43148-319a-4b32-e960-682a41c0eb51"
      },
      "outputs": [
        {
          "output_type": "stream",
          "name": "stdout",
          "text": [
            "\n",
            "~~~Command Line To-Do List Application~~~\n",
            "1: Add task: \n",
            "2: View Task: \n",
            "3: Delete Task: \n",
            "4: Quit. \n",
            "Enter your Choice: 1\n",
            "Enter a New Task: hi\n",
            "Task added successfully! \n",
            "\n",
            "~~~Command Line To-Do List Application~~~\n",
            "1: Add task: \n",
            "2: View Task: \n",
            "3: Delete Task: \n",
            "4: Quit. \n",
            "Enter your Choice: 1\n",
            "Enter a New Task: by\n",
            "Task added successfully! \n",
            "\n",
            "~~~Command Line To-Do List Application~~~\n",
            "1: Add task: \n",
            "2: View Task: \n",
            "3: Delete Task: \n",
            "4: Quit. \n",
            "Enter your Choice: 3\n",
            "Tasks: \n",
            "1.hi\n",
            "2.by\n",
            "Enter the task number to delete: 2\n",
            "Task deleted Successfully! \n",
            "\n",
            "~~~Command Line To-Do List Application~~~\n",
            "1: Add task: \n",
            "2: View Task: \n",
            "3: Delete Task: \n",
            "4: Quit. \n",
            "Enter your Choice: 2\n",
            "List of Tasks: \n",
            "1.hi\n",
            "\n",
            "~~~Command Line To-Do List Application~~~\n",
            "1: Add task: \n",
            "2: View Task: \n",
            "3: Delete Task: \n",
            "4: Quit. \n",
            "Enter your Choice: 4\n",
            "Congratulations! for being successfull in making your Command Line To-Do List Application. \n"
          ]
        }
      ],
      "source": [
        "#TASK 1\n",
        "tasks=[]\n",
        "def AddTask():\n",
        "  task=input(\"Enter a New Task: \")\n",
        "  tasks.append(task)\n",
        "  print(\"Task added successfully! \")\n",
        "def ViewTasks():\n",
        "  if len(tasks)==0:\n",
        "    print(\"No tasks. \")\n",
        "  else:\n",
        "    print(\"List of Tasks: \")\n",
        "    for i,task in enumerate(tasks):\n",
        "      print(f'{i+1}.{task}')\n",
        "def DeleteTask():\n",
        "  if len(tasks)==0:\n",
        "    print(\"No tasks to delete. \")\n",
        "  else:\n",
        "    print(\"Tasks: \")\n",
        "    for i,task in enumerate(tasks):\n",
        "      print(f'{i+1}.{task}')\n",
        "    choice=int(input(\"Enter the task number to delete: \"))\n",
        "    if 0<choice<=len(tasks):\n",
        "      del tasks[choice-1]\n",
        "      print(\"Task deleted Successfully! \")\n",
        "    else:\n",
        "      print(\"Invalid Task Number. \")\n",
        "def main():\n",
        " while True:\n",
        "    print(\"\\n~~~Command Line To-Do List Application~~~\")\n",
        "    print(\"1: Add task: \")\n",
        "    print(\"2: View Task: \")\n",
        "    print(\"3: Delete Task: \")\n",
        "    print(\"4: Quit. \")\n",
        "    choice=int(input(\"Enter your Choice: \"))\n",
        "    if choice==1:\n",
        "      AddTask()\n",
        "    elif choice==2:\n",
        "      ViewTasks()\n",
        "    elif choice==3:\n",
        "      DeleteTask()\n",
        "    elif choice==4:\n",
        "      print(\"Congratulations! for being successfull in making your Command Line To-Do List Application. \")\n",
        "      break\n",
        "    else:\n",
        "      print(\"Invalid Choice. Please Try Again. \")\n",
        "main()\n"
      ]
    },
    {
      "cell_type": "code",
      "source": [],
      "metadata": {
        "id": "gHW6remJGaX3"
      },
      "execution_count": null,
      "outputs": []
    }
  ]
}