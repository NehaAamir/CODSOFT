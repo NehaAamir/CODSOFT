{
  "nbformat": 4,
  "nbformat_minor": 0,
  "metadata": {
    "colab": {
      "provenance": []
    },
    "kernelspec": {
      "name": "python3",
      "display_name": "Python 3"
    },
    "language_info": {
      "name": "python"
    }
  },
  "cells": [
    {
      "cell_type": "code",
      "execution_count": null,
      "metadata": {
        "id": "vaLmpp5oGeef"
      },
      "outputs": [],
      "source": [
        "#TASK 2\n",
        "#Basic Calculator Using python\n",
        "def add(num1,num2):\n",
        " return num1+num2\n",
        "\n",
        "def subtract(num1,num2):\n",
        " return num1-num2\n",
        "\n",
        "def multiply(num1,num2):\n",
        " return num1*num2\n",
        "\n",
        "def divide(num1,num2):\n",
        "  if num2!=0:\n",
        "    return num1//num2\n",
        "  else:\n",
        "    print(\"Cannot divide a number by 0\")\n",
        "\n",
        "num1=int(input(\"Enter number 1: \"))\n",
        "num2=int(input(\"Enter number 2: \"))\n",
        "print(\"Enter your Preferrable Function from the options Below: \\n\"\n",
        "      \"1. Add\\n\"\n",
        "      \"2. Subtract\\n\"\n",
        "      \"3. Multiply\\n\"\n",
        "      \"4. Divide\\n\")\n",
        "choose=int(input(\"Which function you want to call? For Add press 1, For Subtract press 2, For Multiply press 3 and For Divide press 4: \"))\n",
        "if choose==1:\n",
        "  print(num1,\"+\",num2,\"=\",add(num1,num2))\n",
        "elif choose==2:\n",
        "  print(num1,\"-\",num2,\"=\",subtract(num1,num2))\n",
        "elif choose==3:\n",
        "  print(num1,\"*\",num2,\"=\",multiply(num1,num2))\n",
        "elif choose==4:\n",
        "   print(num1,\"//\",num2,\"=\",divide(num1,num2))\n",
        "else:\n",
        "  print(\"Invalide Choice. \")\n",
        "\n"
      ]
    }
  ]
}