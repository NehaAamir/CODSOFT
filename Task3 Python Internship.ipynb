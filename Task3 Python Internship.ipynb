{
  "nbformat": 4,
  "nbformat_minor": 0,
  "metadata": {
    "colab": {
      "provenance": []
    },
    "kernelspec": {
      "name": "python3",
      "display_name": "Python 3"
    },
    "language_info": {
      "name": "python"
    }
  },
  "cells": [
    {
      "cell_type": "code",
      "execution_count": null,
      "metadata": {
        "id": "ZOlFIoieGhbs"
      },
      "outputs": [],
      "source": [
        "#TASK 3\n",
        "#Password Generator Using Python\n",
        "import random\n",
        "Length=int(input(\"Enter the length of your Password that you want to generate: \"))\n",
        "Small_letters=\"abcdefghijklmnopqrstuvwxyz\"\n",
        "Capital_letters=\"ABCDEFGHIJKLMNOPQRSTUVWXYZ\"\n",
        "Numbers=\"0123456789\"\n",
        "Symbols=\"!@#$%^&*_-+=,./?;:\\|~`<>[]{}()\"\n",
        "Final=Small_letters+Capital_letters+Numbers+Symbols\n",
        "Password=\"\".join(random.sample(Final,Length))\n",
        "print(f\"Your Generated Password is: {Password}\")"
      ]
    }
  ]
}